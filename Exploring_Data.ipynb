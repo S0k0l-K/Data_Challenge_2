{
 "cells": [
  {
   "cell_type": "code",
   "execution_count": 1,
   "metadata": {
    "collapsed": true
   },
   "outputs": [],
   "source": [
    "#Importing all necessary Packages\n",
    "import pandas as pd"
   ]
  },
  {
   "cell_type": "code",
   "execution_count": 2,
   "outputs": [],
   "source": [
    "#Reading the CSV file (rename the directory to the file location)\n",
    "data_street = pd.read_csv(r'D:\\University\\Data\\2023-02\\2023-02-metropolitan-street.csv')\n",
    "pd.set_option('display.max_columns', None)"
   ],
   "metadata": {
    "collapsed": false
   }
  },
  {
   "cell_type": "markdown",
   "source": [
    "# Data reading and cleaning:"
   ],
   "metadata": {
    "collapsed": false
   }
  },
  {
   "cell_type": "code",
   "execution_count": 4,
   "outputs": [
    {
     "data": {
      "text/plain": "Index(['Crime ID', 'Month', 'Reported by', 'Falls within', 'Longitude',\n       'Latitude', 'Location', 'LSOA code', 'LSOA name', 'Crime type',\n       'Last outcome category', 'Context'],\n      dtype='object')"
     },
     "execution_count": 4,
     "metadata": {},
     "output_type": "execute_result"
    }
   ],
   "source": [
    "data_street.columns"
   ],
   "metadata": {
    "collapsed": false
   }
  },
  {
   "cell_type": "code",
   "execution_count": 6,
   "outputs": [
    {
     "data": {
      "text/plain": "83041"
     },
     "execution_count": 6,
     "metadata": {},
     "output_type": "execute_result"
    }
   ],
   "source": [
    "len(data_street)"
   ],
   "metadata": {
    "collapsed": false
   }
  },
  {
   "cell_type": "code",
   "execution_count": 7,
   "outputs": [
    {
     "data": {
      "text/plain": "Crime ID                 68515\nMonth                    83041\nReported by              83041\nFalls within             83041\nLongitude                81189\nLatitude                 81189\nLocation                 83041\nLSOA code                81189\nLSOA name                81189\nCrime type               83041\nLast outcome category    68515\nContext                      0\ndtype: int64"
     },
     "execution_count": 7,
     "metadata": {},
     "output_type": "execute_result"
    }
   ],
   "source": [
    "# count amount of valid variables per column\n",
    "\n",
    "data_street.count()"
   ],
   "metadata": {
    "collapsed": false
   }
  },
  {
   "cell_type": "code",
   "execution_count": 8,
   "outputs": [
    {
     "name": "stdout",
     "output_type": "stream",
     "text": [
      "Crime ID :  14526\n",
      "Month :  0\n",
      "Reported by :  0\n",
      "Falls within :  0\n",
      "Longitude :  1852\n",
      "Latitude :  1852\n",
      "Location :  0\n",
      "LSOA code :  1852\n",
      "LSOA name :  1852\n",
      "Crime type :  0\n",
      "Last outcome category :  14526\n",
      "Context :  83041\n"
     ]
    }
   ],
   "source": [
    "# count amount of variables have NaN values per column\n",
    "\n",
    "for column in data_street.columns:\n",
    "    print(column, \": \", data_street[column].isna().sum())"
   ],
   "metadata": {
    "collapsed": false
   }
  },
  {
   "cell_type": "code",
   "execution_count": null,
   "outputs": [],
   "source": [
    "# List of all LSOA's in Barnet\n",
    "# barnet_lsoa_list = ['Barnet 001A','Barnet 001B','Barnet 001C','Barnet 001D','Barnet 001E','Barnet 001F','Barnet 002A','Barnet 002B','Barnet 002C','Barnet 002D','Barnet 002E','Barnet 003A','Barnet 003B','Barnet 003C','Barnet 003D','Barnet 004A','Barnet 004B','Barnet 004C','Barnet 004D','Barnet 004E','Barnet 004F','Barnet 005A','Barnet 005B','Barnet 005C','Barnet 005D','Barnet 006A','Barnet 006B','Barnet 006C','Barnet 006D','Barnet 006E','Barnet 007A','Barnet 007B','Barnet 007C','Barnet 007D','Barnet 007E','Barnet 007F','Barnet 008A','Barnet 008B','Barnet 008C','Barnet 008D','Barnet 008E','Barnet 009A','Barnet 009B','Barnet 009C','Barnet 009D','Barnet 009E','Barnet 010A','Barnet 010B','Barnet 010C','Barnet 010D','Barnet 010E','Barnet 011A','Barnet 011B','Barnet 011C','Barnet 011D','Barnet 011E','Barnet 012A','Barnet 012B','Barnet 012C','Barnet 012D','Barnet 012E','Barnet 013A','Barnet 013B','Barnet 013C','Barnet 013D','Barnet 013E','Barnet 013F','Barnet 014A','Barnet 014B','Barnet 014C','Barnet 014D','Barnet 014E','Barnet 014F','Barnet 015A','Barnet 015B','Barnet 015C','Barnet 015D','Barnet 015E','Barnet 015F','Barnet 016A','Barnet 016B','Barnet 016C','Barnet 016D','Barnet 017A','Barnet 017B','Barnet 017C','Barnet 017D','Barnet 018A','Barnet 018B','Barnet 018C','Barnet 018D','Barnet 018E','Barnet 019A','Barnet 019B','Barnet 019C','Barnet 019D','Barnet 019E','Barnet 019F','Barnet 020A','Barnet 020B','Barnet 020C','Barnet 020D','Barnet 020E','Barnet 021A','Barnet 021B','Barnet 021C','Barnet 021D','Barnet 021E','Barnet 022A','Barnet 022B','Barnet 022C','Barnet 022D','Barnet 022E','Barnet 022F','Barnet 023A','Barnet 023B','Barnet 023C','Barnet 023D','Barnet 024A','Barnet 024B','Barnet 024C','Barnet 024D','Barnet 024E','Barnet 024F','Barnet 025A','Barnet 025B','Barnet 025C','Barnet 025D','Barnet 025E','Barnet 026A','Barnet 026B','Barnet 026C','Barnet 026D','Barnet 026E','Barnet 027A','Barnet 027B','Barnet 027C','Barnet 027D','Barnet 027E','Barnet 027F','Barnet 028A','Barnet 028B','Barnet 028C','Barnet 028D','Barnet 028E','Barnet 029A','Barnet 029B','Barnet 029C','Barnet 029D','Barnet 029E','Barnet 029F','Barnet 030A','Barnet 030B','Barnet 030D','Barnet 030E','Barnet 030F','Barnet 031A','Barnet 031B','Barnet 031C','Barnet 031D','Barnet 032A','Barnet 032B','Barnet 032C','Barnet 032D','Barnet 032E','Barnet 032F','Barnet 033A','Barnet 033B','Barnet 033C','Barnet 033D','Barnet 033E','Barnet 033F','Barnet 034A','Barnet 034B','Barnet 034C','Barnet 034D','Barnet 035A','Barnet 035B','Barnet 035C','Barnet 035D','Barnet 035E','Barnet 035F','Barnet 036A','Barnet 036B','Barnet 036C','Barnet 036D','Barnet 036E','Barnet 036F','Barnet 037A','Barnet 037B','Barnet 037C','Barnet 037D','Barnet 037E','Barnet 037F','Barnet 038A','Barnet 038B','Barnet 038C','Barnet 038D','Barnet 038E','Barnet 039A','Barnet 039B','Barnet 039C','Barnet 039D','Barnet 040A','Barnet 040B','Barnet 040C','Barnet 040D','Barnet 041A','Barnet 041B','Barnet 041C','Barnet 041D']"
   ],
   "metadata": {
    "collapsed": false
   }
  },
  {
   "cell_type": "code",
   "execution_count": 16,
   "outputs": [
    {
     "data": {
      "text/plain": "                                                Crime ID    Month  \\\n81189  55a8ae764057e35ab4662e7433dcb62dda064404c7f7d7...  2023-02   \n81190  4753b4169a78376c91b02289ab74d7a26e27c40b03c8f0...  2023-02   \n81191  44b6506c4938ad073a221cf01aee625850b5fa04d23e8a...  2023-02   \n81192  a9524422654a6b672658b413473aa6edf33d7d88959f71...  2023-02   \n81193  a3da53e6f081fd20f94f3e111a23685c4bd1cf3079c84f...  2023-02   \n...                                                  ...      ...   \n83036  6a56f27751bfafea18da62a3eb82d348be3db55ad648f5...  2023-02   \n83037  6c32e0edd2c9b969de8fb3b8137f913db3e6122be9374b...  2023-02   \n83038  3b762601f5e4d1f72e688199b1eb924c2ec0bc871e84dc...  2023-02   \n83039  c315898f16e7141609f847179c7333504b6337ca6e7d54...  2023-02   \n83040  f98227024a8f587a1271abf6dc2e2b1a565e9a90923f9b...  2023-02   \n\n                       Reported by                 Falls within  Longitude  \\\n81189  Metropolitan Police Service  Metropolitan Police Service        NaN   \n81190  Metropolitan Police Service  Metropolitan Police Service        NaN   \n81191  Metropolitan Police Service  Metropolitan Police Service        NaN   \n81192  Metropolitan Police Service  Metropolitan Police Service        NaN   \n81193  Metropolitan Police Service  Metropolitan Police Service        NaN   \n...                            ...                          ...        ...   \n83036  Metropolitan Police Service  Metropolitan Police Service        NaN   \n83037  Metropolitan Police Service  Metropolitan Police Service        NaN   \n83038  Metropolitan Police Service  Metropolitan Police Service        NaN   \n83039  Metropolitan Police Service  Metropolitan Police Service        NaN   \n83040  Metropolitan Police Service  Metropolitan Police Service        NaN   \n\n       Latitude     Location LSOA code LSOA name     Crime type  \\\n81189       NaN  No Location       NaN       NaN  Bicycle theft   \n81190       NaN  No Location       NaN       NaN  Bicycle theft   \n81191       NaN  No Location       NaN       NaN  Bicycle theft   \n81192       NaN  No Location       NaN       NaN  Bicycle theft   \n81193       NaN  No Location       NaN       NaN  Bicycle theft   \n...         ...          ...       ...       ...            ...   \n83036       NaN  No Location       NaN       NaN    Other crime   \n83037       NaN  No Location       NaN       NaN    Other crime   \n83038       NaN  No Location       NaN       NaN    Other crime   \n83039       NaN  No Location       NaN       NaN    Other crime   \n83040       NaN  No Location       NaN       NaN    Other crime   \n\n                               Last outcome category  Context  \n81189  Investigation complete; no suspect identified      NaN  \n81190  Investigation complete; no suspect identified      NaN  \n81191  Investigation complete; no suspect identified      NaN  \n81192                            Under investigation      NaN  \n81193  Investigation complete; no suspect identified      NaN  \n...                                              ...      ...  \n83036  Investigation complete; no suspect identified      NaN  \n83037  Investigation complete; no suspect identified      NaN  \n83038                         Awaiting court outcome      NaN  \n83039                            Under investigation      NaN  \n83040                               Local resolution      NaN  \n\n[1852 rows x 12 columns]",
      "text/html": "<div>\n<style scoped>\n    .dataframe tbody tr th:only-of-type {\n        vertical-align: middle;\n    }\n\n    .dataframe tbody tr th {\n        vertical-align: top;\n    }\n\n    .dataframe thead th {\n        text-align: right;\n    }\n</style>\n<table border=\"1\" class=\"dataframe\">\n  <thead>\n    <tr style=\"text-align: right;\">\n      <th></th>\n      <th>Crime ID</th>\n      <th>Month</th>\n      <th>Reported by</th>\n      <th>Falls within</th>\n      <th>Longitude</th>\n      <th>Latitude</th>\n      <th>Location</th>\n      <th>LSOA code</th>\n      <th>LSOA name</th>\n      <th>Crime type</th>\n      <th>Last outcome category</th>\n      <th>Context</th>\n    </tr>\n  </thead>\n  <tbody>\n    <tr>\n      <th>81189</th>\n      <td>55a8ae764057e35ab4662e7433dcb62dda064404c7f7d7...</td>\n      <td>2023-02</td>\n      <td>Metropolitan Police Service</td>\n      <td>Metropolitan Police Service</td>\n      <td>NaN</td>\n      <td>NaN</td>\n      <td>No Location</td>\n      <td>NaN</td>\n      <td>NaN</td>\n      <td>Bicycle theft</td>\n      <td>Investigation complete; no suspect identified</td>\n      <td>NaN</td>\n    </tr>\n    <tr>\n      <th>81190</th>\n      <td>4753b4169a78376c91b02289ab74d7a26e27c40b03c8f0...</td>\n      <td>2023-02</td>\n      <td>Metropolitan Police Service</td>\n      <td>Metropolitan Police Service</td>\n      <td>NaN</td>\n      <td>NaN</td>\n      <td>No Location</td>\n      <td>NaN</td>\n      <td>NaN</td>\n      <td>Bicycle theft</td>\n      <td>Investigation complete; no suspect identified</td>\n      <td>NaN</td>\n    </tr>\n    <tr>\n      <th>81191</th>\n      <td>44b6506c4938ad073a221cf01aee625850b5fa04d23e8a...</td>\n      <td>2023-02</td>\n      <td>Metropolitan Police Service</td>\n      <td>Metropolitan Police Service</td>\n      <td>NaN</td>\n      <td>NaN</td>\n      <td>No Location</td>\n      <td>NaN</td>\n      <td>NaN</td>\n      <td>Bicycle theft</td>\n      <td>Investigation complete; no suspect identified</td>\n      <td>NaN</td>\n    </tr>\n    <tr>\n      <th>81192</th>\n      <td>a9524422654a6b672658b413473aa6edf33d7d88959f71...</td>\n      <td>2023-02</td>\n      <td>Metropolitan Police Service</td>\n      <td>Metropolitan Police Service</td>\n      <td>NaN</td>\n      <td>NaN</td>\n      <td>No Location</td>\n      <td>NaN</td>\n      <td>NaN</td>\n      <td>Bicycle theft</td>\n      <td>Under investigation</td>\n      <td>NaN</td>\n    </tr>\n    <tr>\n      <th>81193</th>\n      <td>a3da53e6f081fd20f94f3e111a23685c4bd1cf3079c84f...</td>\n      <td>2023-02</td>\n      <td>Metropolitan Police Service</td>\n      <td>Metropolitan Police Service</td>\n      <td>NaN</td>\n      <td>NaN</td>\n      <td>No Location</td>\n      <td>NaN</td>\n      <td>NaN</td>\n      <td>Bicycle theft</td>\n      <td>Investigation complete; no suspect identified</td>\n      <td>NaN</td>\n    </tr>\n    <tr>\n      <th>...</th>\n      <td>...</td>\n      <td>...</td>\n      <td>...</td>\n      <td>...</td>\n      <td>...</td>\n      <td>...</td>\n      <td>...</td>\n      <td>...</td>\n      <td>...</td>\n      <td>...</td>\n      <td>...</td>\n      <td>...</td>\n    </tr>\n    <tr>\n      <th>83036</th>\n      <td>6a56f27751bfafea18da62a3eb82d348be3db55ad648f5...</td>\n      <td>2023-02</td>\n      <td>Metropolitan Police Service</td>\n      <td>Metropolitan Police Service</td>\n      <td>NaN</td>\n      <td>NaN</td>\n      <td>No Location</td>\n      <td>NaN</td>\n      <td>NaN</td>\n      <td>Other crime</td>\n      <td>Investigation complete; no suspect identified</td>\n      <td>NaN</td>\n    </tr>\n    <tr>\n      <th>83037</th>\n      <td>6c32e0edd2c9b969de8fb3b8137f913db3e6122be9374b...</td>\n      <td>2023-02</td>\n      <td>Metropolitan Police Service</td>\n      <td>Metropolitan Police Service</td>\n      <td>NaN</td>\n      <td>NaN</td>\n      <td>No Location</td>\n      <td>NaN</td>\n      <td>NaN</td>\n      <td>Other crime</td>\n      <td>Investigation complete; no suspect identified</td>\n      <td>NaN</td>\n    </tr>\n    <tr>\n      <th>83038</th>\n      <td>3b762601f5e4d1f72e688199b1eb924c2ec0bc871e84dc...</td>\n      <td>2023-02</td>\n      <td>Metropolitan Police Service</td>\n      <td>Metropolitan Police Service</td>\n      <td>NaN</td>\n      <td>NaN</td>\n      <td>No Location</td>\n      <td>NaN</td>\n      <td>NaN</td>\n      <td>Other crime</td>\n      <td>Awaiting court outcome</td>\n      <td>NaN</td>\n    </tr>\n    <tr>\n      <th>83039</th>\n      <td>c315898f16e7141609f847179c7333504b6337ca6e7d54...</td>\n      <td>2023-02</td>\n      <td>Metropolitan Police Service</td>\n      <td>Metropolitan Police Service</td>\n      <td>NaN</td>\n      <td>NaN</td>\n      <td>No Location</td>\n      <td>NaN</td>\n      <td>NaN</td>\n      <td>Other crime</td>\n      <td>Under investigation</td>\n      <td>NaN</td>\n    </tr>\n    <tr>\n      <th>83040</th>\n      <td>f98227024a8f587a1271abf6dc2e2b1a565e9a90923f9b...</td>\n      <td>2023-02</td>\n      <td>Metropolitan Police Service</td>\n      <td>Metropolitan Police Service</td>\n      <td>NaN</td>\n      <td>NaN</td>\n      <td>No Location</td>\n      <td>NaN</td>\n      <td>NaN</td>\n      <td>Other crime</td>\n      <td>Local resolution</td>\n      <td>NaN</td>\n    </tr>\n  </tbody>\n</table>\n<p>1852 rows × 12 columns</p>\n</div>"
     },
     "execution_count": 16,
     "metadata": {},
     "output_type": "execute_result"
    }
   ],
   "source": [
    "data_street[data_street['LSOA name'].isnull()]"
   ],
   "metadata": {
    "collapsed": false
   }
  },
  {
   "cell_type": "code",
   "execution_count": null,
   "outputs": [],
   "source": [
    "data_barnet2 = data_street.loc[data_street['LSOA name'].str.contains(\"Barnet\", case=False)]"
   ],
   "metadata": {
    "collapsed": false
   }
  },
  {
   "cell_type": "code",
   "execution_count": 13,
   "outputs": [
    {
     "ename": "KeyError",
     "evalue": "\"None of [Index([(False, False, False, False, False, False, False, False, False, False, False, False, False, False, False, False, False, False, False, False, False, False, False, False, False, False, False, False, False, False, False, False, False, False, False, False, False, False, False, False, False, False, False, False, False, False, False, False, False, False, False, False, False, False, False, False, False, False, False, False, False, False, False, False, False, False, False, False, False, False, False, False, False, False, False, False, False, False, False, False, False, False, False, False, False, False, False, False, False, False, False, False, False, False, False, False, False, False, False, False, ...)], dtype='object')] are in the [columns]\"",
     "output_type": "error",
     "traceback": [
      "\u001B[1;31m---------------------------------------------------------------------------\u001B[0m",
      "\u001B[1;31mKeyError\u001B[0m                                  Traceback (most recent call last)",
      "Cell \u001B[1;32mIn[13], line 3\u001B[0m\n\u001B[0;32m      1\u001B[0m \u001B[38;5;66;03m#Filter the dataset only for crimes of type 'Burglary'\u001B[39;00m\n\u001B[0;32m      2\u001B[0m \u001B[38;5;66;03m# data_burglary = data_street[(data_street['Crime type'] == 'Burglary') & (data_street['LSOA'] == 'Burglary')]\u001B[39;00m\n\u001B[1;32m----> 3\u001B[0m data_burglary \u001B[38;5;241m=\u001B[39m \u001B[43mdata_street\u001B[49m\u001B[43m[\u001B[49m\u001B[43m[\u001B[49m\u001B[43m(\u001B[49m\u001B[43mdata_street\u001B[49m\u001B[43m[\u001B[49m\u001B[38;5;124;43m'\u001B[39;49m\u001B[38;5;124;43mCrime type\u001B[39;49m\u001B[38;5;124;43m'\u001B[39;49m\u001B[43m]\u001B[49m\u001B[43m \u001B[49m\u001B[38;5;241;43m==\u001B[39;49m\u001B[43m \u001B[49m\u001B[38;5;124;43m'\u001B[39;49m\u001B[38;5;124;43mBurglary\u001B[39;49m\u001B[38;5;124;43m'\u001B[39;49m\u001B[43m)\u001B[49m\u001B[43m \u001B[49m\u001B[38;5;241;43m&\u001B[39;49m\u001B[43m \u001B[49m\u001B[43m(\u001B[49m\u001B[43mdata_street\u001B[49m\u001B[43m[\u001B[49m\u001B[38;5;124;43m'\u001B[39;49m\u001B[38;5;124;43mLSOA name\u001B[39;49m\u001B[38;5;124;43m'\u001B[39;49m\u001B[43m]\u001B[49m\u001B[38;5;241;43m.\u001B[39;49m\u001B[43mstr\u001B[49m\u001B[38;5;241;43m.\u001B[39;49m\u001B[43mcontains\u001B[49m\u001B[43m(\u001B[49m\u001B[38;5;124;43m'\u001B[39;49m\u001B[38;5;124;43mBarnet\u001B[39;49m\u001B[38;5;124;43m'\u001B[39;49m\u001B[43m)\u001B[49m\u001B[43m)\u001B[49m\u001B[43m]\u001B[49m\u001B[43m]\u001B[49m\n\u001B[0;32m      4\u001B[0m data_burglary\n",
      "File \u001B[1;32m~\\AppData\\Local\\Programs\\Python\\Python39\\lib\\site-packages\\pandas\\core\\frame.py:3511\u001B[0m, in \u001B[0;36mDataFrame.__getitem__\u001B[1;34m(self, key)\u001B[0m\n\u001B[0;32m   3509\u001B[0m     \u001B[38;5;28;01mif\u001B[39;00m is_iterator(key):\n\u001B[0;32m   3510\u001B[0m         key \u001B[38;5;241m=\u001B[39m \u001B[38;5;28mlist\u001B[39m(key)\n\u001B[1;32m-> 3511\u001B[0m     indexer \u001B[38;5;241m=\u001B[39m \u001B[38;5;28;43mself\u001B[39;49m\u001B[38;5;241;43m.\u001B[39;49m\u001B[43mcolumns\u001B[49m\u001B[38;5;241;43m.\u001B[39;49m\u001B[43m_get_indexer_strict\u001B[49m\u001B[43m(\u001B[49m\u001B[43mkey\u001B[49m\u001B[43m,\u001B[49m\u001B[43m \u001B[49m\u001B[38;5;124;43m\"\u001B[39;49m\u001B[38;5;124;43mcolumns\u001B[39;49m\u001B[38;5;124;43m\"\u001B[39;49m\u001B[43m)\u001B[49m[\u001B[38;5;241m1\u001B[39m]\n\u001B[0;32m   3513\u001B[0m \u001B[38;5;66;03m# take() does not accept boolean indexers\u001B[39;00m\n\u001B[0;32m   3514\u001B[0m \u001B[38;5;28;01mif\u001B[39;00m \u001B[38;5;28mgetattr\u001B[39m(indexer, \u001B[38;5;124m\"\u001B[39m\u001B[38;5;124mdtype\u001B[39m\u001B[38;5;124m\"\u001B[39m, \u001B[38;5;28;01mNone\u001B[39;00m) \u001B[38;5;241m==\u001B[39m \u001B[38;5;28mbool\u001B[39m:\n",
      "File \u001B[1;32m~\\AppData\\Local\\Programs\\Python\\Python39\\lib\\site-packages\\pandas\\core\\indexes\\base.py:5782\u001B[0m, in \u001B[0;36mIndex._get_indexer_strict\u001B[1;34m(self, key, axis_name)\u001B[0m\n\u001B[0;32m   5779\u001B[0m \u001B[38;5;28;01melse\u001B[39;00m:\n\u001B[0;32m   5780\u001B[0m     keyarr, indexer, new_indexer \u001B[38;5;241m=\u001B[39m \u001B[38;5;28mself\u001B[39m\u001B[38;5;241m.\u001B[39m_reindex_non_unique(keyarr)\n\u001B[1;32m-> 5782\u001B[0m \u001B[38;5;28;43mself\u001B[39;49m\u001B[38;5;241;43m.\u001B[39;49m\u001B[43m_raise_if_missing\u001B[49m\u001B[43m(\u001B[49m\u001B[43mkeyarr\u001B[49m\u001B[43m,\u001B[49m\u001B[43m \u001B[49m\u001B[43mindexer\u001B[49m\u001B[43m,\u001B[49m\u001B[43m \u001B[49m\u001B[43maxis_name\u001B[49m\u001B[43m)\u001B[49m\n\u001B[0;32m   5784\u001B[0m keyarr \u001B[38;5;241m=\u001B[39m \u001B[38;5;28mself\u001B[39m\u001B[38;5;241m.\u001B[39mtake(indexer)\n\u001B[0;32m   5785\u001B[0m \u001B[38;5;28;01mif\u001B[39;00m \u001B[38;5;28misinstance\u001B[39m(key, Index):\n\u001B[0;32m   5786\u001B[0m     \u001B[38;5;66;03m# GH 42790 - Preserve name from an Index\u001B[39;00m\n",
      "File \u001B[1;32m~\\AppData\\Local\\Programs\\Python\\Python39\\lib\\site-packages\\pandas\\core\\indexes\\base.py:5842\u001B[0m, in \u001B[0;36mIndex._raise_if_missing\u001B[1;34m(self, key, indexer, axis_name)\u001B[0m\n\u001B[0;32m   5840\u001B[0m     \u001B[38;5;28;01mif\u001B[39;00m use_interval_msg:\n\u001B[0;32m   5841\u001B[0m         key \u001B[38;5;241m=\u001B[39m \u001B[38;5;28mlist\u001B[39m(key)\n\u001B[1;32m-> 5842\u001B[0m     \u001B[38;5;28;01mraise\u001B[39;00m \u001B[38;5;167;01mKeyError\u001B[39;00m(\u001B[38;5;124mf\u001B[39m\u001B[38;5;124m\"\u001B[39m\u001B[38;5;124mNone of [\u001B[39m\u001B[38;5;132;01m{\u001B[39;00mkey\u001B[38;5;132;01m}\u001B[39;00m\u001B[38;5;124m] are in the [\u001B[39m\u001B[38;5;132;01m{\u001B[39;00maxis_name\u001B[38;5;132;01m}\u001B[39;00m\u001B[38;5;124m]\u001B[39m\u001B[38;5;124m\"\u001B[39m)\n\u001B[0;32m   5844\u001B[0m not_found \u001B[38;5;241m=\u001B[39m \u001B[38;5;28mlist\u001B[39m(ensure_index(key)[missing_mask\u001B[38;5;241m.\u001B[39mnonzero()[\u001B[38;5;241m0\u001B[39m]]\u001B[38;5;241m.\u001B[39munique())\n\u001B[0;32m   5845\u001B[0m \u001B[38;5;28;01mraise\u001B[39;00m \u001B[38;5;167;01mKeyError\u001B[39;00m(\u001B[38;5;124mf\u001B[39m\u001B[38;5;124m\"\u001B[39m\u001B[38;5;132;01m{\u001B[39;00mnot_found\u001B[38;5;132;01m}\u001B[39;00m\u001B[38;5;124m not in index\u001B[39m\u001B[38;5;124m\"\u001B[39m)\n",
      "\u001B[1;31mKeyError\u001B[0m: \"None of [Index([(False, False, False, False, False, False, False, False, False, False, False, False, False, False, False, False, False, False, False, False, False, False, False, False, False, False, False, False, False, False, False, False, False, False, False, False, False, False, False, False, False, False, False, False, False, False, False, False, False, False, False, False, False, False, False, False, False, False, False, False, False, False, False, False, False, False, False, False, False, False, False, False, False, False, False, False, False, False, False, False, False, False, False, False, False, False, False, False, False, False, False, False, False, False, False, False, False, False, False, False, ...)], dtype='object')] are in the [columns]\""
     ]
    }
   ],
   "source": [
    "#Filter the dataset only for crimes of type 'Burglary'\n",
    "# data_burglary = data_street[(data_street['Crime type'] == 'Burglary') & (data_street['LSOA'] == 'Burglary')]\n",
    "data_burglary = data_street[data_street['Crime type'] == 'Burglary']\n",
    "data_burglary"
   ],
   "metadata": {
    "collapsed": false
   }
  }
 ],
 "metadata": {
  "kernelspec": {
   "display_name": "Python 3",
   "language": "python",
   "name": "python3"
  },
  "language_info": {
   "codemirror_mode": {
    "name": "ipython",
    "version": 2
   },
   "file_extension": ".py",
   "mimetype": "text/x-python",
   "name": "python",
   "nbconvert_exporter": "python",
   "pygments_lexer": "ipython2",
   "version": "2.7.6"
  }
 },
 "nbformat": 4,
 "nbformat_minor": 0
}
